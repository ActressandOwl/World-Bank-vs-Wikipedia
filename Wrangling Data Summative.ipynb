{
 "cells": [
  {
   "cell_type": "code",
   "execution_count": null,
   "metadata": {
    "collapsed": true
   },
   "outputs": [],
   "source": [
    "import pickle\n",
    "import pandas as pd\n",
    "from pandas import DataFrame\n",
    "import numpy as np\n",
    "import re\n",
    "import urllib\n",
    "import bs4\n",
    "from scipy import stats\n",
    "import matplotlib.pyplot as plt"
   ]
  },
  {
   "cell_type": "code",
   "execution_count": null,
   "metadata": {
    "collapsed": true
   },
   "outputs": [],
   "source": [
    "# Converting wiki data into dataframe\n",
    "wikidata = pickle.load(open('/Users/Macbook/Downloads/wiki_country_data.pkl','rb'))\n",
    "\n",
    "wikiframe = DataFrame.from_dict(wikidata, 'index')\n",
    "wikiframe.columns = ['Content']\n",
    "\n",
    "# Identifying redirect pages by length of content\n",
    "for i, row in wikiframe.iterrows():\n",
    "    wikiframe.loc[i, 'len_Content'] = len(wikiframe.loc[i,'Content'])\n",
    "\n",
    "# Identifying unique strings in the redirect pages\n",
    "redirects1 = wikiframe['Content'].str.contains('#REDIRECT').fillna(False)\n",
    "redirects2 = wikiframe['Content'].str.contains('#redirect').fillna(False)\n",
    "\n",
    "# Dropping the redirect page countries from dataframe using the unique strings\n",
    "wikiframe = wikiframe[wikiframe.Content.str.contains(\"#redirect\") == False]\n",
    "wikiframe = wikiframe[wikiframe.Content.str.contains(\"#REDIRECT\") == False]"
   ]
  },
  {
   "cell_type": "code",
   "execution_count": null,
   "metadata": {
    "collapsed": true
   },
   "outputs": [],
   "source": [
    "# Converting bank data into dataframe\n",
    "bankframe = pd.read_excel('/Users/Macbook/Downloads/world_bank_country_data.xlsx')\n",
    "\n",
    "bankframe = bankframe.rename(index=str, columns={'Country Name':'Country'})                          "
   ]
  },
  {
   "cell_type": "code",
   "execution_count": null,
   "metadata": {},
   "outputs": [],
   "source": [
    "# Identifying the country names that are unique to each dataframe\n",
    "bankcountryset = set(bankframe['Country'])\n",
    "wikicountryset = set(wikiframe.index)\n",
    "\n",
    "onlyinbank = bankcountryset - wikicountryset\n",
    "onlyinwiki = wikicountryset - bankcountryset\n",
    "\n",
    "print(onlyinwiki)\n",
    "print(onlyinbank)"
   ]
  },
  {
   "cell_type": "code",
   "execution_count": null,
   "metadata": {
    "collapsed": true
   },
   "outputs": [],
   "source": [
    "# Homogenising the country names across both datasets\n",
    "\n",
    "bankmapper = {\n",
    "    \"Russian Federation\": \"Russia\",\n",
    "    \"Syrian Arab Republic\": \"Syria\",\n",
    "    \"Brunei Darussalam\": \"Brunei\",\n",
    "    \"Timor-Leste\": \"East Timor\",\n",
    "    \"Slovak Republic\": \"Slovakia\",\n",
    "    \"Yemen, Rep.\": \"Yemen\",\n",
    "    \"Sao Tome and Principe\" : \"São Tomé and Príncipe\",\n",
    "    \"St. Kitts and Nevis\" : \"Saint Kitts and Nevis\",\n",
    "    \"Gambia, The\" : \"Gambia\",\n",
    "    \"Micronesia, Fed. Sts.\" : \"Micronesia\",\n",
    "    \"Korea, Rep.\" : \"Korea South\",\n",
    "    \"Macedonia, FYR\" : \"Macedonia\",\n",
    "    \"Congo, Rep.\" : \"Congo, Democratic Republic of the\",\n",
    "    \"St. Lucia\" : \"Saint Lucia\",\n",
    "    \"Cabo Verde\" : \"Cape Verde\",\n",
    "    \"Iran, Islamic Rep.\" : \"Iran\",\n",
    "    \"St. Vincent and the Grenadines\" : \"Saint Vincent and the Grenadines\",\n",
    "    \"Lao PDR\" : \"Laos\",\n",
    "    \"Bahamas, The\" : \"Bahamas\",\n",
    "    \"Egypt, Arab Rep.\" : \"Egypt\",\n",
    "    \"Congo, Dem. Rep.\": \"Congo, Republic of the\",\n",
    "    \"Venezuela, RB\" : \"Venezuela\",\n",
    "    \"Cote d'Ivoire\" : \"Ivory Coast\"\n",
    "}\n",
    "\n",
    "\n",
    "for index, value in bankframe['Country'].iteritems():\n",
    "    if value in bankmapper.keys():\n",
    "        bankframe.loc[index, 'Country'] = bankmapper[value]\n",
    "        \n",
    "# Dropping countries that are not in bankframe at all from wikiframe:\n",
    "\n",
    "wiki_droplist = ['South Ossetia', 'Palestine', 'Cook Islands', \n",
    "            'Transnistria', 'Somaliland', 'Kyrgyzstan', \n",
    "            'Abkhazia', 'Taiwan', 'Vatican City', \n",
    "            'Northern Cyprus', 'Niue', 'Nagorno-Karabakh']\n",
    "\n",
    "for i in wiki_droplist:\n",
    "    wikiframe = wikiframe[wikiframe.index.str.contains(i) == False]"
   ]
  },
  {
   "cell_type": "code",
   "execution_count": null,
   "metadata": {
    "collapsed": true
   },
   "outputs": [],
   "source": [
    "# Creating a master dataframe with relevant statistics\n",
    "\n",
    "df = bankframe.merge(wikiframe,left_on=\"Country\",right_index=True, how = 'inner')\n",
    "\n",
    "# Replacing \"..\" cells with NaNs\n",
    "df = df.replace(r'^(\\.\\.)', np.nan, regex=True)\n",
    "\n",
    "# Replacing year names\n",
    "df = df.rename(index=str, columns={'2013 [YR2013]':'2013'})\n",
    "df = df.rename(index=str, columns={'2014 [YR2014]':'2014'})\n",
    "df = df.rename(index=str, columns={'2015 [YR2015]':'2015'})\n",
    "df = df.rename(index=str, columns={'2016 [YR2016]':'2016'})\n",
    "df = df.rename(index=str, columns={'2017 [YR2017]':'2017'})\n",
    "\n",
    "# Isolating statistics of interest\n",
    "series_list = ['SG.VAW.REAS.ZS','SG.DMK.SRCR.FN.ZS','SH.STA.FGMS.ZS','SP.DYN.CONU.ZS'] \n",
    "df = df[df['Series Code'].isin(series_list)]  "
   ]
  },
  {
   "cell_type": "code",
   "execution_count": null,
   "metadata": {},
   "outputs": [],
   "source": [
    "# Creating an African subframe\n",
    "afroframe = pd.read_excel('/Users/Macbook/Downloads/list-african-countries.xlsx')\n",
    "afro_df = df[df['Country'].isin(afroframe['Country'])] \n",
    "afro_df = afro_df.drop('len_Content', axis=1)\n",
    "\n",
    "afro_df['5year_avg'] = afro_df[['2013','2014','2015','2016','2017']].mean(axis=1)\n",
    "\n",
    "# Dropping countries with no data and year columns\n",
    "afro_df2 = afro_df.dropna(subset=['2013','2014','2015','2016','2017'], how='all')\n",
    "\n",
    "afro_df2 = afro_df2.drop('2013', axis=1)\n",
    "afro_df2 = afro_df2.drop('2014', axis=1)\n",
    "afro_df2 = afro_df2.drop('2015', axis=1)\n",
    "afro_df2 = afro_df2.drop('2016', axis=1)\n",
    "afro_df2 = afro_df2.drop('2017', axis=1)"
   ]
  },
  {
   "cell_type": "code",
   "execution_count": null,
   "metadata": {
    "collapsed": true,
    "scrolled": true
   },
   "outputs": [],
   "source": [
    "#Creating a pivot table from African subframe\n",
    "afro_pivot = pd.pivot_table(afro_df2, index = [\"Country\"], columns = [\"Series Name\"])\n",
    "\n",
    "#Cleaning up pivot table\n",
    "column_mapper = {'Contraceptive prevalence, any methods (% of women ages 15-49)':'contra',\n",
    "                'Female genital mutilation prevalence (%)':'FGM',\n",
    "                'Women making their own informed decisions regarding sexual relations, contraceptive use and reproductive health care  (% of women age 15-49)':'decisions',\n",
    "                'Women who believe a husband is justified in beating his wife (any of five reasons) (%)':'beating'}\n",
    "\n",
    "afro_pivot = afro_pivot.rename(index=str, columns=column_mapper)\n",
    "\n",
    "afro_pivot = afro_pivot.reset_index()\n",
    "afro_pivot.columns = afro_pivot.columns.droplevel()\n",
    "afro_pivot = afro_pivot.rename(index=str, columns={'':'Country'})\n",
    "\n",
    "#Adding wikidata from previous dataframe\n",
    "afro_df3 = afro_df2.drop_duplicates('Country')\n",
    "\n",
    "afro_pivot=afro_pivot.merge(afro_df3, left_on=\"Country\", right_on = \"Country\")\n",
    "afro_pivot=afro_pivot.drop('Country Code', axis=1)\n",
    "afro_pivot=afro_pivot.drop('Series Name', axis=1)\n",
    "afro_pivot=afro_pivot.drop('Series Code', axis=1)\n",
    "afro_pivot=afro_pivot.drop('5year_avg', axis=1)"
   ]
  },
  {
   "cell_type": "code",
   "execution_count": null,
   "metadata": {
    "scrolled": true
   },
   "outputs": [],
   "source": [
    "#Creating additional column with lists of all inner links present in wikipedia pages\n",
    "\n",
    "inner_links = re.compile(r'\\[\\[.*?\\]\\]')\n",
    "afro_pivot['link_list'] = [inner_links.findall(i) for i in afro_pivot['Content']]\n",
    "display(afro_pivot)"
   ]
  },
  {
   "cell_type": "code",
   "execution_count": null,
   "metadata": {
    "scrolled": false
   },
   "outputs": [],
   "source": [
    "# Counting links between countries depending on level for each statistic\n",
    "\n",
    "def link_counter(x):\n",
    "    count_list=[]\n",
    "    row_count=0\n",
    "    for row in afro_pivot['link_list']:\n",
    "        counter=0\n",
    "        for string in row:\n",
    "            for country in x:\n",
    "                if country in afro_pivot.loc[row_count,'Country']:\n",
    "                    pass\n",
    "                else:\n",
    "                    if country in string:\n",
    "                        counter+=1\n",
    "        count_list.append(counter)\n",
    "        row_count+=1\n",
    "\n",
    "    return count_list\n",
    "\n",
    "#Contraception\n",
    "high_contra = afro_pivot[afro_pivot['contra']>50]\n",
    "low_contra = afro_pivot[afro_pivot['contra'] <=50]\n",
    "\n",
    "high_contra_list=[i for i in high_contra['Country']]\n",
    "low_contra_list=[i for i in low_contra['Country']]\n",
    "\n",
    "afro_pivot['high_contra_links'] =  link_counter(high_contra_list)\n",
    "afro_pivot['low_contra_links'] = link_counter(low_contra_list)\n",
    "\n",
    "#FGM\n",
    "high_FGM = afro_pivot[afro_pivot['FGM']>50]\n",
    "low_FGM = afro_pivot[afro_pivot['FGM'] <=50]\n",
    "\n",
    "high_FGM_list=[i for i in high_FGM['Country']]\n",
    "low_FGM_list=[i for i in low_FGM['Country']]\n",
    "\n",
    "afro_pivot['high_FGM_links'] =  link_counter(high_FGM_list)\n",
    "afro_pivot['low_FGM_links'] = link_counter(low_FGM_list)\n",
    "\n",
    "#decisions\n",
    "high_decisions = afro_pivot[afro_pivot['decisions']>50]\n",
    "low_decisions = afro_pivot[afro_pivot['decisions'] <=50]\n",
    "\n",
    "high_decisions_list=[i for i in high_FGM['Country']]\n",
    "low_decisions_list=[i for i in low_FGM['Country']]\n",
    "\n",
    "afro_pivot['high_decisions_links'] =  link_counter(high_decisions_list)\n",
    "afro_pivot['low_decisions_links'] = link_counter(low_decisions_list)\n",
    "\n",
    "#beating\n",
    "high_beating = afro_pivot[afro_pivot['beating']>50]\n",
    "low_beating = afro_pivot[afro_pivot['beating'] <=50]\n",
    "\n",
    "high_beating_list=[i for i in high_beating['Country']]\n",
    "low_beating_list=[i for i in low_beating['Country']]\n",
    "\n",
    "afro_pivot['high_beating_links'] =  link_counter(high_beating_list)\n",
    "afro_pivot['low_beating_links'] = link_counter(low_beating_list)"
   ]
  },
  {
   "cell_type": "code",
   "execution_count": null,
   "metadata": {},
   "outputs": [],
   "source": [
    "# Identifying extreme countries for each statistic\n",
    "\n",
    "# Contra\n",
    "print(afro_pivot.loc[afro_pivot['contra']==afro_pivot['contra'].max(),'Country'])\n",
    "print(afro_pivot.loc[afro_pivot['contra']==afro_pivot['contra'].min(),'Country'])\n",
    "\n",
    "# FGM\n",
    "print(afro_pivot.loc[afro_pivot['FGM']==afro_pivot['FGM'].max(),'Country'])\n",
    "print(afro_pivot.loc[afro_pivot['FGM']==afro_pivot['FGM'].min(),'Country'])\n",
    "\n",
    "# decisions\n",
    "print(afro_pivot.loc[afro_pivot['decisions']==afro_pivot['decisions'].max(),'Country'])\n",
    "print(afro_pivot.loc[afro_pivot['decisions']==afro_pivot['decisions'].min(),'Country'])\n",
    "\n",
    "# beating\n",
    "print(afro_pivot.loc[afro_pivot['beating']==afro_pivot['beating'].max(),'Country'])\n",
    "print(afro_pivot.loc[afro_pivot['beating']==afro_pivot['beating'].min(),'Country'])"
   ]
  },
  {
   "cell_type": "code",
   "execution_count": null,
   "metadata": {
    "collapsed": true
   },
   "outputs": [],
   "source": [
    "# Plotting extreme country link means\n",
    "\n",
    "top_contra_stats = pd.DataFrame(index=['Zimbabwe','Chad'])\n",
    "top_contra_stats.loc['Zimbabwe','high_links'] = 2\n",
    "top_contra_stats.loc['Zimbabwe','low_links'] = 8\n",
    "\n",
    "top_contra_stats.loc['Chad','high_links'] = 0\n",
    "top_contra_stats.loc['Chad','low_links'] = 19\n",
    "\n",
    "top_contra_stats.plot.bar()\n",
    "\n",
    "top_FGM_stats = pd.DataFrame(index=['Togo','Mali'])\n",
    "top_FGM_stats.loc['Togo','high_links'] = 1\n",
    "top_FGM_stats.loc['Togo','low_links'] = 7\n",
    "\n",
    "top_FGM_stats.loc['Mali','high_links'] = 7\n",
    "top_FGM_stats.loc['Mali','low_links'] = 6\n",
    "\n",
    "top_FGM_stats.plot.bar()\n",
    "\n",
    "top_decisions_stats = pd.DataFrame(index=['Namibia','Senegal'])\n",
    "top_decisions_stats.loc['Namibia','high_links'] = 0\n",
    "top_decisions_stats.loc['Namibia','low_links'] = 0\n",
    "\n",
    "top_decisions_stats.loc['Senegal','high_links'] = 9\n",
    "top_decisions_stats.loc['Senegal','low_links'] = 3\n",
    "\n",
    "top_decisions_stats.plot.bar()\n",
    "\n",
    "top_beating_stats = pd.DataFrame(index=['Mali','Malawi'])\n",
    "top_beating_stats.loc['Mali','high_links'] = 8\n",
    "top_beating_stats.loc['Mali','low_links'] = 12\n",
    "\n",
    "top_beating_stats.loc['Malawi','high_links'] = 2\n",
    "top_beating_stats.loc['Malawi','low_links'] = 4\n",
    "\n",
    "top_beating_stats.plot.bar()"
   ]
  },
  {
   "cell_type": "code",
   "execution_count": null,
   "metadata": {},
   "outputs": [],
   "source": [
    "# Creating a stats dataframe and barplots from overall link means\n",
    "\n",
    "stats = pd.DataFrame(index=['contra','FGM','decisions','beating'])\n",
    "\n",
    "stats.loc['contra','high-high']= high_contra['high_contra_links'].mean()\n",
    "stats.loc['contra','high-low']= high_contra['low_contra_links'].mean()\n",
    "\n",
    "stats.loc['FGM','low-low']= low_FGM['low_FGM_links'].mean()\n",
    "stats.loc['FGM','low-high']= low_FGM['high_FGM_links'].mean()\n",
    "\n",
    "stats.loc['decisions','high-high']= high_decisions['high_decisions_links'].mean()\n",
    "stats.loc['decisions','high-low']= high_decisions['low_decisions_links'].mean()\n",
    "\n",
    "stats.loc['beating','low-low']= low_beating['low_beating_links'].mean()\n",
    "stats.loc['beating','low-high']= low_beating['high_beating_links'].mean()\n",
    "\n",
    "stats.plot.bar()"
   ]
  }
 ],
 "metadata": {
  "kernelspec": {
   "display_name": "Python 3",
   "language": "python",
   "name": "python3"
  },
  "language_info": {
   "codemirror_mode": {
    "name": "ipython",
    "version": 3
   },
   "file_extension": ".py",
   "mimetype": "text/x-python",
   "name": "python",
   "nbconvert_exporter": "python",
   "pygments_lexer": "ipython3",
   "version": "3.6.5"
  }
 },
 "nbformat": 4,
 "nbformat_minor": 2
}
